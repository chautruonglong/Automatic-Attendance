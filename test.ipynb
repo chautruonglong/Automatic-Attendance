{
 "metadata": {
  "language_info": {
   "codemirror_mode": {
    "name": "ipython",
    "version": 3
   },
   "file_extension": ".py",
   "mimetype": "text/x-python",
   "name": "python",
   "nbconvert_exporter": "python",
   "pygments_lexer": "ipython3",
   "version": "3.9.1"
  },
  "orig_nbformat": 2,
  "kernelspec": {
   "name": "python391jvsc74a57bd05f7ba86f3a55346474db80e6312cfd09ac6dabcd30d4998ef76a4455d450131e",
   "display_name": "Python 3.9.1 64-bit"
  },
  "metadata": {
   "interpreter": {
    "hash": "5f7ba86f3a55346474db80e6312cfd09ac6dabcd30d4998ef76a4455d450131e"
   }
  }
 },
 "nbformat": 4,
 "nbformat_minor": 2,
 "cells": [
  {
   "cell_type": "code",
   "execution_count": 1,
   "metadata": {},
   "outputs": [],
   "source": [
    "import os\n",
    "path='1814'\n",
    "\n",
    "imagePaths=[os.path.join(path,f) for f in os.listdir(path)]\n"
   ]
  },
  {
   "cell_type": "code",
   "execution_count": 2,
   "metadata": {},
   "outputs": [],
   "source": [
    "import cv2\n",
    "import numpy as np\n",
    "def Getdata(stringPath):\n",
    "    face_cascade = cv2.CascadeClassifier(cv2.haarcascades+\"haarcascade_frontalface_default.xml\")\n",
    "    s='\\\\'\n",
    "    user_name= stringPath.split('1814')[1].split(s)[1][:-5]\n",
    "    #cap=cv2.VideoCapture(\"D:\\\\Nam3_HK2\\\\1814\\\\\"+user_name+\".h264\")\n",
    "    cap=cv2.VideoCapture(stringPath)\n",
    "    user_folder=\"data_\"+user_name\n",
    "    if (not os.path.exists(user_folder)):\n",
    "        os.makedirs(user_folder)\n",
    "    sampleNum=0\n",
    "    while(cap.isOpened()):\n",
    "        try: \n",
    "            ret,frame=cap.read()\n",
    "            faces=face_cascade.detectMultiScale(frame)\n",
    "            for (x,y,w,h) in faces:\n",
    "                cv2.rectangle(frame,(x,y),(x+w,y+h),(0,0,255),2)\n",
    "                #sampleNum+=1\n",
    "                #cv2.imwrite(user_folder+'/'+user_name+'_'+str(sampleNum)+'.jpg',frame[y:y+h,x:x+w])\n",
    "            cv2.imshow(\"sss\",frame)\n",
    "        except:\n",
    "            break\n",
    "        if(cv2.waitKey(1)==ord('q')):\n",
    "            break\n",
    "    cap.release()\n",
    "    cv2.destroyAllWindows()"
   ]
  },
  {
   "cell_type": "code",
   "execution_count": 5,
   "metadata": {},
   "outputs": [],
   "source": [
    "for imagepath in imagePaths:\n",
    "    Getdata(imagepath)\n"
   ]
  },
  {
   "cell_type": "code",
   "execution_count": null,
   "metadata": {},
   "outputs": [],
   "source": []
  }
 ]
}